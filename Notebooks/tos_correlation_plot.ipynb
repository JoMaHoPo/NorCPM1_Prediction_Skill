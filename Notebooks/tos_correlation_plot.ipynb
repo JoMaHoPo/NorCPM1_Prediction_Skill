{
 "cells": [
  {
   "cell_type": "code",
   "execution_count": 1,
   "metadata": {},
   "outputs": [],
   "source": [
    "import xarray as xr\n",
    "import numpy as np\n",
    "import matplotlib.pylab as plt\n",
    "import pandas as pd\n",
    "from matplotlib import cm\n",
    "import cartopy.feature as cfeature\n",
    "import matplotlib.pylab as plt\n",
    "import cartopy.crs as ccrs\n",
    "from netCDF4 import Dataset\n",
    "from cartopy.util import add_cyclic_point\n",
    "from xarrayutils.utils import linear_trend, xr_linregress"
   ]
  },
  {
   "cell_type": "code",
   "execution_count": 2,
   "metadata": {},
   "outputs": [],
   "source": [
    "ds1_filename='TOS_Assim_Ensemble_Mean'\n",
    "ds1=xr.open_dataset('D:/TRABAJO/DATA/NORcpm/assim/tos/tos_Omon_NorCPM1_dcppA-assim_ensmean_anomaly.nc')\n",
    "path='D:/TRABAJO/DATA/NORcpm/Correlation/tos/'\n",
    "ds3=xr.open_dataset('D:/TRABAJO/DATA/NORcpm/assim/siconc/siconc_SImon_NorCPM1_dcppA-assim_ensmean.nc')"
   ]
  },
  {
   "cell_type": "code",
   "execution_count": null,
   "metadata": {},
   "outputs": [
    {
     "name": "stderr",
     "output_type": "stream",
     "text": [
      "C:\\Users\\Administrador\\anaconda3\\lib\\site-packages\\shapefile.py:385: UserWarning: Shapefile shape has invalid polygon: no exterior rings found (must have clockwise orientation); interpreting holes as exteriors.\n",
      "  warnings.warn('Shapefile shape has invalid polygon: no exterior rings found (must have clockwise orientation); interpreting holes as exteriors.')\n"
     ]
    }
   ],
   "source": [
    "for i in range(2,12):\n",
    "    ds2=xr.open_dataset('D:/TRABAJO/DATA/NORcpm/hindcast/tos/Ensemble_mean/tos_Omon_ensemean_year'+str(i)+'_anomaly.nc')\n",
    "    ds2_filename='TOS_Hindcast_Ensemble_Mean_year'+str(i)\n",
    "    \n",
    "    start_time = str(1959+i)\n",
    "    end_time = str(2007+i)\n",
    "    time_slice = slice(start_time, end_time)\n",
    "    \n",
    "    param='tos'\n",
    "    \n",
    "    ds1_subset=ds1[param].sel(time=time_slice)\n",
    "    ds2_subset=ds2[param].sel(time=time_slice)\n",
    "    ds3_subset=ds3['siconc'].sel(time=time_slice)\n",
    "    ds3_subset_mean=np.mean(ds3_subset,axis=0)\n",
    "    \n",
    "    tempxsalt = xr_linregress(ds2_subset, ds1_subset, dim='time')\n",
    "   \n",
    "    lat=tempxsalt.lat\n",
    "    lon = tempxsalt.lon\n",
    "    st  = tempxsalt.lat\n",
    "    r_value=tempxsalt.r_value\n",
    "    p_value=tempxsalt.p_value\n",
    "    \n",
    "    r_cyc, lon_cyc = add_cyclic_point(r_value, coord=lon)\n",
    "    p_cyc, lon_cyc = add_cyclic_point(p_value, coord=lon)\n",
    "    ice_cyc,lon_cyc= add_cyclic_point(ds3_subset_mean, coord=lon)\n",
    "    \n",
    "    sig_area   = np.where(p_cyc < 0.01)\n",
    "    lons, lats = np.meshgrid(lon_cyc, lat)\n",
    "    \n",
    "    plt.figure(figsize=(12,12))\n",
    "    ax = plt.axes(projection=ccrs.NorthPolarStereo())\n",
    "    ax.coastlines(resolution = '50m')\n",
    "    ax.set_extent([-180, 180, 60, 90], crs=ccrs.PlateCarree())\n",
    "    ax.add_feature(cfeature.GSHHSFeature(levels=[1], scale=\"coarse\", facecolor=\"lightgray\"))\n",
    "    image= ax.contourf(lon_cyc,lat ,r_cyc , transform=ccrs.PlateCarree(),\n",
    "                           levels=np.linspace(-1,1,50),\n",
    "                           cmap=cm.RdBu_r,\n",
    "                           extend='both')\n",
    "   \n",
    "    image4=ax.contour(lon_cyc, lat, ice_cyc, transform=ccrs.PlateCarree(),\n",
    "                           levels=np.linspace(90,90,1),\n",
    "                           colors='k',\n",
    "                           origin='lower',linewidths=3)\n",
    "    \n",
    "    _ = ax.scatter(lons[sig_area], lats[sig_area], marker = '.', s = 2, c = 'k', alpha = 0.6, transform = ccrs.PlateCarree())\n",
    "    \n",
    "    \n",
    "    cb = plt.colorbar(image,ticks=np.linspace(-1,1,11), orientation='horizontal', pad=0.03, shrink = 0.8)\n",
    "    cb.ax.tick_params(labelsize=12)\n",
    "    cb.set_label('Corr Coef (R^2)', size=20)\n",
    "    plt.title('Correlation between '+ ds1_filename +' and '+ ds2_filename +'('+start_time+'-'+end_time+')')\n",
    "    filename=ds1_filename+ds2_filename+start_time+end_time\n",
    "    plt.savefig(path+filename+'.png')"
   ]
  },
  {
   "cell_type": "code",
   "execution_count": null,
   "metadata": {},
   "outputs": [],
   "source": []
  }
 ],
 "metadata": {
  "kernelspec": {
   "display_name": "Python 3",
   "language": "python",
   "name": "python3"
  },
  "language_info": {
   "codemirror_mode": {
    "name": "ipython",
    "version": 3
   },
   "file_extension": ".py",
   "mimetype": "text/x-python",
   "name": "python",
   "nbconvert_exporter": "python",
   "pygments_lexer": "ipython3",
   "version": "3.8.5"
  }
 },
 "nbformat": 4,
 "nbformat_minor": 4
}
