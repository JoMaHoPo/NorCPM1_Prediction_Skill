{
 "cells": [
  {
   "cell_type": "code",
   "execution_count": 1,
   "metadata": {},
   "outputs": [],
   "source": [
    "import matplotlib.pylab as plt\n",
    "import xarray \n",
    "import pandas as pd\n",
    "import numpy as np\n",
    "from matplotlib import cm\n",
    "import cartopy.feature as cfeature\n",
    "import matplotlib.pylab as plt\n",
    "import cartopy.crs as ccrs\n",
    "from netCDF4 import Dataset\n",
    "from cartopy.util import add_cyclic_point\n",
    "import cmocean"
   ]
  },
  {
   "cell_type": "code",
   "execution_count": null,
   "metadata": {},
   "outputs": [
    {
     "name": "stderr",
     "output_type": "stream",
     "text": [
      "C:\\Users\\Administrador\\anaconda3\\lib\\site-packages\\shapefile.py:385: UserWarning: Shapefile shape has invalid polygon: no exterior rings found (must have clockwise orientation); interpreting holes as exteriors.\n",
      "  warnings.warn('Shapefile shape has invalid polygon: no exterior rings found (must have clockwise orientation); interpreting holes as exteriors.')\n"
     ]
    }
   ],
   "source": [
    "path='D:/TRABAJO/DATA/NORcpm/hindcast/tos/Ensemble_mean/'\n",
    "pathi='D:/TRABAJO/DATA/NORcpm/hindcast/siconc/Ensmean/'\n",
    "for j in range(2,12):\n",
    "    filename= 'tos_Omon_ensmean_year'+str(j)+'_timmean.nc'\n",
    "    fileice='siconc_SImon_ensmean_year'+str(j)+'_timmean.nc'\n",
    "        \n",
    "    fl= Dataset(path+filename)\n",
    "    lat = fl.variables['lat'][:]\n",
    "    lon = fl.variables['lon'][:]\n",
    "    st  = fl.variables['tos'][:]\n",
    "    air=np.squeeze(st)\n",
    "     \n",
    "    fli= Dataset(pathi+fileice)\n",
    "    sti = fli.variables['siconc'][:]\n",
    "    icec= np.squeeze(sti)\n",
    "       \n",
    "        \n",
    "    air_cyc, lon_cyc = add_cyclic_point(air, coord=lon)\n",
    "    ice_cyc, lon_cyc = add_cyclic_point(icec, coord=lon)\n",
    "        \n",
    "    lon2d, lat2d = np.meshgrid(lon_cyc, lat)\n",
    "        \n",
    "    plt.figure(figsize=(12,12))\n",
    "    ax = plt.axes(projection=ccrs.NorthPolarStereo())\n",
    "    ax.coastlines(resolution = '50m')\n",
    "    ax.set_extent([-180, 180, 60, 90], crs=ccrs.PlateCarree())\n",
    "    ax.add_feature(cfeature.GSHHSFeature(levels=[1], scale=\"coarse\", facecolor=\"lightgray\"))\n",
    "    image= ax.contourf(lon2d, lat2d, air_cyc, transform=ccrs.PlateCarree(),\n",
    "                           levels=np.linspace(-2,10,39),\n",
    "                           cmap=cm.inferno,\n",
    "                           extend='both')\n",
    "    image3=ax.contour(lon2d, lat2d, ice_cyc, transform=ccrs.PlateCarree(),\n",
    "                           levels=np.linspace(90,90,1),\n",
    "                           colors='g',\n",
    "                           origin='lower',linewidths=3)\n",
    "\n",
    "    cb = plt.colorbar(image,ticks=np.linspace(-2,10,13), orientation='horizontal', pad=0.03, shrink = 0.8)\n",
    "    cb.ax.tick_params(labelsize=12)\n",
    "    cb.set_label('SST'+'('+u\"\\N{DEGREE SIGN}\"+'C'+')', size=20)\n",
    "    plt.title(filename)\n",
    "    plt.savefig(path+'Figures/'+filename+'.png')\n"
   ]
  },
  {
   "cell_type": "code",
   "execution_count": null,
   "metadata": {},
   "outputs": [],
   "source": []
  }
 ],
 "metadata": {
  "kernelspec": {
   "display_name": "Python 3",
   "language": "python",
   "name": "python3"
  },
  "language_info": {
   "codemirror_mode": {
    "name": "ipython",
    "version": 3
   },
   "file_extension": ".py",
   "mimetype": "text/x-python",
   "name": "python",
   "nbconvert_exporter": "python",
   "pygments_lexer": "ipython3",
   "version": "3.8.5"
  }
 },
 "nbformat": 4,
 "nbformat_minor": 4
}
