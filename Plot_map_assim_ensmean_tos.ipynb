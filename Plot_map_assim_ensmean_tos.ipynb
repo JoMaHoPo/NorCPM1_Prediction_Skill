{
 "cells": [
  {
   "cell_type": "code",
   "execution_count": 1,
   "metadata": {},
   "outputs": [],
   "source": [
    "import matplotlib.pylab as plt\n",
    "import xarray \n",
    "import pandas as pd\n",
    "import numpy as np\n",
    "from matplotlib import cm\n",
    "\n",
    "import cartopy.feature as cfeature\n",
    "import matplotlib.pylab as plt\n",
    "import cartopy.crs as ccrs\n",
    "from netCDF4 import Dataset\n",
    "from cartopy.util import add_cyclic_point\n"
   ]
  },
  {
   "cell_type": "code",
   "execution_count": 2,
   "metadata": {},
   "outputs": [],
   "source": [
    "path='D:/TRABAJO/DATA/NORcpm/assim/tos/'\n",
    "pathi='D:/TRABAJO/DATA/NORcpm/hindcast/siconc/Ensmean/'"
   ]
  },
  {
   "cell_type": "code",
   "execution_count": 3,
   "metadata": {},
   "outputs": [
    {
     "ename": "FileNotFoundError",
     "evalue": "[Errno 2] No such file or directory: b'D:/TRABAJO/DATA/NORcpm/hindcast/siconc/Ensmean/siconc_SImon_NorCPM1_dcppA-assim_ensmean.nc'",
     "output_type": "error",
     "traceback": [
      "\u001b[1;31m---------------------------------------------------------------------------\u001b[0m",
      "\u001b[1;31mFileNotFoundError\u001b[0m                         Traceback (most recent call last)",
      "\u001b[1;32m<ipython-input-3-8a7ee14e4574>\u001b[0m in \u001b[0;36m<module>\u001b[1;34m\u001b[0m\n\u001b[0;32m      9\u001b[0m \u001b[0mair\u001b[0m\u001b[1;33m=\u001b[0m\u001b[0mnp\u001b[0m\u001b[1;33m.\u001b[0m\u001b[0msqueeze\u001b[0m\u001b[1;33m(\u001b[0m\u001b[0mst\u001b[0m\u001b[1;33m)\u001b[0m\u001b[1;33m\u001b[0m\u001b[1;33m\u001b[0m\u001b[0m\n\u001b[0;32m     10\u001b[0m \u001b[1;33m\u001b[0m\u001b[0m\n\u001b[1;32m---> 11\u001b[1;33m \u001b[0mfli\u001b[0m\u001b[1;33m=\u001b[0m \u001b[0mDataset\u001b[0m\u001b[1;33m(\u001b[0m\u001b[0mpathi\u001b[0m\u001b[1;33m+\u001b[0m\u001b[0mfileice\u001b[0m\u001b[1;33m+\u001b[0m\u001b[1;34m'.nc'\u001b[0m\u001b[1;33m)\u001b[0m\u001b[1;33m\u001b[0m\u001b[1;33m\u001b[0m\u001b[0m\n\u001b[0m\u001b[0;32m     12\u001b[0m \u001b[0msti\u001b[0m \u001b[1;33m=\u001b[0m \u001b[0mfli\u001b[0m\u001b[1;33m.\u001b[0m\u001b[0mvariables\u001b[0m\u001b[1;33m[\u001b[0m\u001b[1;34m'siconc'\u001b[0m\u001b[1;33m]\u001b[0m\u001b[1;33m[\u001b[0m\u001b[1;33m:\u001b[0m\u001b[1;33m,\u001b[0m\u001b[1;33m:\u001b[0m\u001b[1;33m,\u001b[0m\u001b[1;33m:\u001b[0m\u001b[1;33m]\u001b[0m\u001b[1;33m\u001b[0m\u001b[1;33m\u001b[0m\u001b[0m\n\u001b[0;32m     13\u001b[0m \u001b[0mstic\u001b[0m\u001b[1;33m=\u001b[0m \u001b[0mnp\u001b[0m\u001b[1;33m.\u001b[0m\u001b[0mmean\u001b[0m\u001b[1;33m(\u001b[0m\u001b[0msti\u001b[0m\u001b[1;33m,\u001b[0m\u001b[0maxis\u001b[0m\u001b[1;33m=\u001b[0m\u001b[1;36m0\u001b[0m\u001b[1;33m)\u001b[0m\u001b[1;33m\u001b[0m\u001b[1;33m\u001b[0m\u001b[0m\n",
      "\u001b[1;32mnetCDF4\\_netCDF4.pyx\u001b[0m in \u001b[0;36mnetCDF4._netCDF4.Dataset.__init__\u001b[1;34m()\u001b[0m\n",
      "\u001b[1;32mnetCDF4\\_netCDF4.pyx\u001b[0m in \u001b[0;36mnetCDF4._netCDF4._ensure_nc_success\u001b[1;34m()\u001b[0m\n",
      "\u001b[1;31mFileNotFoundError\u001b[0m: [Errno 2] No such file or directory: b'D:/TRABAJO/DATA/NORcpm/hindcast/siconc/Ensmean/siconc_SImon_NorCPM1_dcppA-assim_ensmean.nc'"
     ]
    }
   ],
   "source": [
    "filename='tos_Omon_NorCPM1_dcppA-assim_ensmean'\n",
    "fileice='siconc_SImon_NorCPM1_dcppA-assim_ensmean'\n",
    "\n",
    "fl= Dataset(path+filename+'.nc')\n",
    "lat = fl.variables['lat'][:]\n",
    "lon = fl.variables['lon'][:]\n",
    "st  = fl.variables['tos'][:,:,:]\n",
    "st  = np.mean(st,axis=0)\n",
    "air=np.squeeze(st)\n",
    "\n",
    "fli= Dataset(pathi+fileice+'.nc')\n",
    "sti = fli.variables['siconc'][:,:,:]\n",
    "stic= np.mean(sti,axis=0)\n",
    "icec= np.squeeze(stic)\n",
    "\n",
    "air_cyc, lon_cyc = add_cyclic_point(air, coord=lon)\n",
    "ice_cyc, lon_cyc = add_cyclic_point(icec, coord=lon)\n",
    "\n",
    "lon2d, lat2d = np.meshgrid(lon_cyc, lat)\n",
    "plt.figure(figsize=(12,12))\n",
    "ax = plt.axes(projection=ccrs.NorthPolarStereo())\n",
    "ax.coastlines(resolution = '50m')\n",
    "ax.set_extent([-180, 180, 60, 90], crs=ccrs.PlateCarree())\n",
    "ax.add_feature(cfeature.GSHHSFeature(levels=[1], scale=\"coarse\", facecolor=\"lightgray\"))\n",
    "image= ax.contourf(lon2d, lat2d, air_cyc, transform=ccrs.PlateCarree(),\n",
    "                           levels=np.linspace(-2,10,39),\n",
    "                           cmap=cm.inferno,\n",
    "                           extend='both')\n",
    "image3=ax.contour(lon2d, lat2d, ice_cyc, transform=ccrs.PlateCarree(),\n",
    "                           levels=np.linspace(90,90,1),\n",
    "                           colors='g',\n",
    "                           origin='lower',linewidths=3)\n",
    "\n",
    "cb = plt.colorbar(image,ticks=np.linspace(-2,10,13), orientation='horizontal', pad=0.03, shrink = 0.8)\n",
    "cb.ax.tick_params(labelsize=12)\n",
    "cb.set_label('SST'+'('+u\"\\N{DEGREE SIGN}\"+'C'+')', size=20)\n",
    "plt.title(filename)\n",
    "plt.savefig(path+filename+'.png')"
   ]
  },
  {
   "cell_type": "code",
   "execution_count": null,
   "metadata": {},
   "outputs": [],
   "source": []
  }
 ],
 "metadata": {
  "kernelspec": {
   "display_name": "Python 3",
   "language": "python",
   "name": "python3"
  },
  "language_info": {
   "codemirror_mode": {
    "name": "ipython",
    "version": 3
   },
   "file_extension": ".py",
   "mimetype": "text/x-python",
   "name": "python",
   "nbconvert_exporter": "python",
   "pygments_lexer": "ipython3",
   "version": "3.8.5"
  }
 },
 "nbformat": 4,
 "nbformat_minor": 4
}
